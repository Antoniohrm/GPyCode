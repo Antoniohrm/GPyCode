{
 "cells": [
  {
   "cell_type": "code",
   "execution_count": 582,
   "metadata": {},
   "outputs": [],
   "source": [
    "import numpy as np"
   ]
  },
  {
   "cell_type": "code",
   "execution_count": 583,
   "metadata": {},
   "outputs": [],
   "source": [
    "n_vertices = 6\n",
    "h = 50                                                      # mm\n",
    "l_edge = 20                                                 # mm\n",
    "alpha = 540                                                  # degrees"
   ]
  },
  {
   "cell_type": "code",
   "execution_count": 584,
   "metadata": {},
   "outputs": [],
   "source": [
    "xmax = 220                                                  # mm\n",
    "ymax = 220                                                  # mm\n",
    "zmax = 300                                                  # mm"
   ]
  },
  {
   "cell_type": "code",
   "execution_count": 585,
   "metadata": {},
   "outputs": [],
   "source": [
    "t_bed = 60                                                  # degrees C\n",
    "t_ext = 210                                                 # degrees C\n",
    "\n",
    "h_layer = 0.2                                               # mm\n",
    "feed_sec = 40                                               # mm/s\n",
    "t_feed_sec = 200                                            # mm/s\n",
    "\n",
    "feed = feed_sec * 60                                        # mm/min\n",
    "t_feed = t_feed_sec * 60                                    # mm/min\n",
    "\n",
    "max_a = [500.00, 500.00, 100.00, 5000.00]\n",
    "max_feed = [500.00, 500.00, 10.00, 50.00]\n",
    "accs = [500.00, 1000.00, 500.00]\n",
    "jerk = [8.00, 8.00, 0.40, 5.00]\n",
    "\n",
    "v_fan = 100                                                 # %\n",
    "d_nozzle = 0.4                                              # mm\n",
    "d_filament = 1.75                                           # mm"
   ]
  },
  {
   "cell_type": "code",
   "execution_count": 586,
   "metadata": {},
   "outputs": [
    {
     "data": {
      "text/plain": [
       "70"
      ]
     },
     "execution_count": 586,
     "metadata": {},
     "output_type": "execute_result"
    }
   ],
   "source": [
    "text = open('Ex_Files/Ex1.gcode', 'w')\n",
    "text.write(\";This Gcode was generated with GPyCode\\n\")\n",
    "text.write(\";The shape has {} vertices\\n\".format(int(n_vertices)))\n",
    "text.write(\";The print has a layer height of {} mm and the feed speed is {} mm/s\\n\".format(h_layer, feed_sec))\n"
   ]
  },
  {
   "cell_type": "code",
   "execution_count": 587,
   "metadata": {},
   "outputs": [
    {
     "data": {
      "text/plain": [
       "10"
      ]
     },
     "execution_count": 587,
     "metadata": {},
     "output_type": "execute_result"
    }
   ],
   "source": [
    "text.write('M140 S{}\\n'.format(t_bed))                      # Set bed temperature without waiting\n",
    "text.write('M104 S{}\\n'.format(t_ext))                      # Set extruder temperature without waiting\n",
    "text.write('M105\\n')\n",
    "text.write('M190 S{}\\n'.format(t_bed))                      # Set bed temperature and wait\n",
    "text.write('M109 S{}\\n'.format(t_ext))                      # Set extruder temperature and wait"
   ]
  },
  {
   "cell_type": "code",
   "execution_count": 588,
   "metadata": {},
   "outputs": [
    {
     "data": {
      "text/plain": [
       "5"
      ]
     },
     "execution_count": 588,
     "metadata": {},
     "output_type": "execute_result"
    }
   ],
   "source": [
    "text.write('M82\\n')\n",
    "text.write('M201 X{} Y{} Z{} E{}\\n'.format(*max_a))         # Set max acceleration for all axis\n",
    "text.write('M203 X{} Y{} Z{} E{}\\n'.format(*max_feed))      # Set max feed for all axis\n",
    "text.write('M204 P{} R{} T{}\\n'.format(*accs))              # Set print, retract and travel accelerations\n",
    "text.write('M205 X{} Y{} Z{} E{}\\n'.format(*jerk))          # Set Jerk\n",
    "\n",
    "text.write('M220 S100\\n')                                   # Feed multiplier\n",
    "text.write('M221 S100\\n')                                   # Flow rate multiplier\n",
    "\n",
    "text.write('G28\\n')                                         # Auto home\n",
    "text.write('G92 E0\\n')                                      # Reset extruder to 0\n",
    "text.write('M107\\n')                                        # Disable fan for first layer\n"
   ]
  },
  {
   "cell_type": "code",
   "execution_count": 589,
   "metadata": {},
   "outputs": [
    {
     "data": {
      "text/plain": [
       "30"
      ]
     },
     "execution_count": 589,
     "metadata": {},
     "output_type": "execute_result"
    }
   ],
   "source": [
    "xc = xmax / 2\n",
    "yc = ymax / 2\n",
    "text.write('G0 F{} X{} Y{} Z2.00\\n'.format(t_feed, xc, yc))"
   ]
  },
  {
   "cell_type": "code",
   "execution_count": 590,
   "metadata": {},
   "outputs": [],
   "source": [
    "n_layers = int(h / h_layer)\n",
    "z_layers = [round(h_layer + (i * h_layer), 2) for i in range(n_layers)]\n",
    "\n",
    "if (h / h_layer) != int(h / h_layer):\n",
    "    n_layers += 1\n",
    "    z_layers.append(round(h, 2))\n",
    "\n",
    "alpha_layers = [alpha * (i / (n_layers - 1)) for i in range(n_layers)]"
   ]
  },
  {
   "cell_type": "code",
   "execution_count": 591,
   "metadata": {},
   "outputs": [],
   "source": [
    "theta_0 = [i * (360 / n_vertices) for i in range(n_vertices)]\n",
    "r = (l_edge / 2) / np.cos((180 * (n_vertices - 2)) / n_vertices)"
   ]
  },
  {
   "cell_type": "code",
   "execution_count": 592,
   "metadata": {},
   "outputs": [],
   "source": [
    "def calcExt(l, d_noz, d_fil, h_lay):\n",
    "    return (d_noz * h_lay * l) / (np.pi * ((d_fil / 2)**2))"
   ]
  },
  {
   "cell_type": "code",
   "execution_count": 593,
   "metadata": {},
   "outputs": [],
   "source": [
    "E = 0\n",
    "\n",
    "for layer in range(n_layers):\n",
    "    theta = [(alpha_layers[layer] + theta_0[i]) * (np.pi / 180) for i in range(len(theta_0))]\n",
    "    x = [xc + (r * np.cos(th)) for th in theta]\n",
    "    y = [yc + (r * np.sin(th)) for th in theta]\n",
    "\n",
    "    if layer == 1:\n",
    "        text.write('M106 S128\\n')\n",
    "    elif layer == 2:\n",
    "        text.write('M106 S255\\n')\n",
    "\n",
    "    text.write('G0 F{} X{} Y{} Z{}\\n'.format(t_feed, round(x[0], 3), round(y[0], 3), z_layers[layer]))\n",
    "\n",
    "    for point in range(1, n_vertices):\n",
    "        dl = np.sqrt((x[point] - x[point - 1])**2 + (y[point] - y[point - 1])**2)\n",
    "        E += calcExt(dl, d_nozzle, d_filament, h_layer)\n",
    "        text.write('G1 F{} X{} Y{} E{}\\n'.format(feed, round(x[point], 3), round(y[point], 3), round(E, 5)))\n",
    "    \n",
    "    dl = np.sqrt((x[0] - x[-1])**2 + (y[0] - y[-1])**2)\n",
    "    E += calcExt(dl, d_nozzle, d_filament, h_layer)\n",
    "    text.write('G1 F{} X{} Y{} E{}\\n'.format(feed, round(x[0], 3), round(y[0], 3), round(E, 5)))\n",
    "    "
   ]
  },
  {
   "cell_type": "code",
   "execution_count": 594,
   "metadata": {},
   "outputs": [
    {
     "data": {
      "text/plain": [
       "12"
      ]
     },
     "execution_count": 594,
     "metadata": {},
     "output_type": "execute_result"
    }
   ],
   "source": [
    "text.write('G0 Z{}\\n'.format(z_layers[-1] + 20))\n",
    "text.write('G28 X Y\\n')\n",
    "text.write('M107\\n')\n",
    "text.write('M140 S0\\n')\n",
    "text.write('M104 S0\\n')\n",
    "text.write('M84 X Y Z E\\n')"
   ]
  },
  {
   "cell_type": "code",
   "execution_count": 595,
   "metadata": {},
   "outputs": [],
   "source": [
    "text.close()"
   ]
  }
 ],
 "metadata": {
  "kernelspec": {
   "display_name": "base",
   "language": "python",
   "name": "python3"
  },
  "language_info": {
   "codemirror_mode": {
    "name": "ipython",
    "version": 3
   },
   "file_extension": ".py",
   "mimetype": "text/x-python",
   "name": "python",
   "nbconvert_exporter": "python",
   "pygments_lexer": "ipython3",
   "version": "3.9.12"
  },
  "orig_nbformat": 4,
  "vscode": {
   "interpreter": {
    "hash": "b1a416ec564d06991520eb1bcbffa34e30eee52d6e30535b3b89ef9313e4fb87"
   }
  }
 },
 "nbformat": 4,
 "nbformat_minor": 2
}
