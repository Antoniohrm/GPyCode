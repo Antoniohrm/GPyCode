{
 "cells": [
  {
   "cell_type": "code",
   "execution_count": 247,
   "metadata": {},
   "outputs": [],
   "source": [
    "import numpy as np"
   ]
  },
  {
   "cell_type": "code",
   "execution_count": 248,
   "metadata": {},
   "outputs": [],
   "source": [
    "n_vertices = 3\n",
    "h = 20                                                      # mm\n",
    "l_edge = 10                                                 # mm\n",
    "alpha = 10                                                  # degrees"
   ]
  },
  {
   "cell_type": "code",
   "execution_count": 249,
   "metadata": {},
   "outputs": [],
   "source": [
    "xmax = 220                                                  # mm\n",
    "ymax = 220                                                  # mm\n",
    "zmax = 300                                                  # mm"
   ]
  },
  {
   "cell_type": "code",
   "execution_count": 250,
   "metadata": {},
   "outputs": [],
   "source": [
    "t_bed = 60                                                  # degrees C\n",
    "t_ext = 210                                                 # degrees C\n",
    "\n",
    "h_layer = 0.2                                               # mm\n",
    "feed_sec = 40                                               # mm/s\n",
    "t_feed_sec = 200                                            # mm/s\n",
    "\n",
    "feed = feed_sec * 60                                        # mm/min\n",
    "t_feed = t_feed_sec * 60                                    # mm/min\n",
    "\n",
    "\n",
    "max_a = [500.00, 500.00, 100.00, 5000.00]\n",
    "max_feed = [500.00, 500.00, 10.00, 50.00]\n",
    "accs = [500.00, 1000.00, 500.00]\n",
    "jerk = [8.00, 8.00, 0.40, 5.00]\n",
    "\n",
    "v_fan = 100         # %"
   ]
  },
  {
   "cell_type": "code",
   "execution_count": 251,
   "metadata": {},
   "outputs": [
    {
     "data": {
      "text/plain": [
       "70"
      ]
     },
     "execution_count": 251,
     "metadata": {},
     "output_type": "execute_result"
    }
   ],
   "source": [
    "text = open('Ex_Files/Ex1.gcode', 'w')\n",
    "text.write(\";This Gcode was generated with GPyCode\\n\")\n",
    "text.write(\";The shape has {} vertices\\n\".format(int(n_vertices)))\n",
    "text.write(\";The print has a layer height of {} mm and the feed speed is {} mm/s\\n\".format(h_layer, feed_sec))\n"
   ]
  },
  {
   "cell_type": "code",
   "execution_count": 252,
   "metadata": {},
   "outputs": [
    {
     "data": {
      "text/plain": [
       "10"
      ]
     },
     "execution_count": 252,
     "metadata": {},
     "output_type": "execute_result"
    }
   ],
   "source": [
    "text.write('M140 S{}\\n'.format(t_bed))                      # Set bed temperature without waiting\n",
    "text.write('M104 S{}\\n'.format(t_ext))                      # Set extruder temperature without waiting\n",
    "text.write('M105\\n')\n",
    "text.write('M190 S{}\\n'.format(t_bed))                      # Set bed temperature and wait\n",
    "text.write('M109 S{}\\n'.format(t_ext))                      # Set extruder temperature and wait"
   ]
  },
  {
   "cell_type": "code",
   "execution_count": 253,
   "metadata": {},
   "outputs": [
    {
     "data": {
      "text/plain": [
       "5"
      ]
     },
     "execution_count": 253,
     "metadata": {},
     "output_type": "execute_result"
    }
   ],
   "source": [
    "text.write('M82\\n')\n",
    "text.write('M201 X{} Y{} Z{} E{}\\n'.format(*max_a))         # Set max acceleration for all axis\n",
    "text.write('M203 X{} Y{} Z{} E{}\\n'.format(*max_feed))      # Set max feed for all axis\n",
    "text.write('M204 P{} R{} T{}\\n'.format(*accs))              # Set print, retract and travel accelerations\n",
    "text.write('M205 X{} Y{} Z{} E{}\\n'.format(*jerk))          # Set Jerk\n",
    "\n",
    "text.write('M220 S100\\n')                                   # Feed multiplier\n",
    "text.write('M221 S100\\n')                                   # Flow rate multiplier\n",
    "\n",
    "text.write('G28\\n')                                         # Auto home\n",
    "text.write('G92 E0\\n')                                      # Reset extruder to 0\n",
    "text.write('M107\\n')                                        # Disable fan for first layer\n"
   ]
  },
  {
   "cell_type": "code",
   "execution_count": 254,
   "metadata": {},
   "outputs": [
    {
     "data": {
      "text/plain": [
       "30"
      ]
     },
     "execution_count": 254,
     "metadata": {},
     "output_type": "execute_result"
    }
   ],
   "source": [
    "xc = xmax / 2\n",
    "yc = ymax / 2\n",
    "text.write('G0 F{} X{} Y{} Z2.00\\n'.format(t_feed, xc, yc))"
   ]
  },
  {
   "cell_type": "code",
   "execution_count": 255,
   "metadata": {},
   "outputs": [
    {
     "name": "stdout",
     "output_type": "stream",
     "text": [
      "[0.2, 0.4, 0.6, 0.8, 1.0, 1.2, 1.4, 1.6, 1.8, 2.0, 2.2, 2.4, 2.6, 2.8, 3.0, 3.2, 3.4, 3.6, 3.8, 4.0, 4.2, 4.4, 4.6, 4.8, 5.0, 5.2, 5.4, 5.6, 5.8, 6.0, 6.2, 6.4, 6.6, 6.8, 7.0, 7.2, 7.4, 7.6, 7.8, 8.0, 8.2, 8.4, 8.6, 8.8, 9.0, 9.2, 9.4, 9.6, 9.8, 10.0, 10.2, 10.4, 10.6, 10.8, 11.0, 11.2, 11.4, 11.6, 11.8, 12.0, 12.2, 12.4, 12.6, 12.8, 13.0, 13.2, 13.4, 13.6, 13.8, 14.0, 14.2, 14.4, 14.6, 14.8, 15.0, 15.2, 15.4, 15.6, 15.8, 16.0, 16.2, 16.4, 16.6, 16.8, 17.0, 17.2, 17.4, 17.6, 17.8, 18.0, 18.2, 18.4, 18.6, 18.8, 19.0, 19.2, 19.4, 19.6, 19.8, 20.0]\n",
      "100\n",
      "[0.0, 0.10101010101010102, 0.20202020202020204, 0.30303030303030304, 0.4040404040404041, 0.5050505050505051, 0.6060606060606061, 0.7070707070707071, 0.8080808080808082, 0.9090909090909092, 1.0101010101010102, 1.1111111111111112, 1.2121212121212122, 1.3131313131313131, 1.4141414141414141, 1.5151515151515151, 1.6161616161616164, 1.7171717171717171, 1.8181818181818183, 1.9191919191919191, 2.0202020202020203, 2.121212121212121, 2.2222222222222223, 2.323232323232323, 2.4242424242424243, 2.5252525252525255, 2.6262626262626263, 2.727272727272727, 2.8282828282828283, 2.929292929292929, 3.0303030303030303, 3.1313131313131315, 3.2323232323232327, 3.333333333333333, 3.4343434343434343, 3.5353535353535355, 3.6363636363636367, 3.7373737373737375, 3.8383838383838382, 3.9393939393939394, 4.040404040404041, 4.141414141414142, 4.242424242424242, 4.343434343434343, 4.444444444444445, 4.545454545454545, 4.646464646464646, 4.747474747474747, 4.848484848484849, 4.94949494949495, 5.050505050505051, 5.151515151515151, 5.252525252525253, 5.353535353535354, 5.454545454545454, 5.555555555555555, 5.656565656565657, 5.757575757575758, 5.858585858585858, 5.959595959595959, 6.0606060606060606, 6.161616161616161, 6.262626262626263, 6.363636363636363, 6.464646464646465, 6.565656565656566, 6.666666666666666, 6.767676767676768, 6.8686868686868685, 6.969696969696971, 7.070707070707071, 7.171717171717171, 7.272727272727273, 7.373737373737374, 7.474747474747475, 7.575757575757576, 7.6767676767676765, 7.777777777777778, 7.878787878787879, 7.97979797979798, 8.080808080808081, 8.181818181818182, 8.282828282828284, 8.383838383838384, 8.484848484848484, 8.585858585858585, 8.686868686868687, 8.787878787878787, 8.88888888888889, 8.98989898989899, 9.09090909090909, 9.191919191919192, 9.292929292929292, 9.393939393939394, 9.494949494949495, 9.595959595959595, 9.696969696969697, 9.797979797979798, 9.8989898989899, 10.0]\n",
      "100\n"
     ]
    }
   ],
   "source": [
    "# h_layer = 0.3                         # This is a test line, to be deleted\n",
    "n_layers = int(h / h_layer)\n",
    "z_layers = [round(h_layer + (i * h_layer), 2) for i in range(n_layers)]\n",
    "\n",
    "if (h / h_layer) != int(h / h_layer):\n",
    "    n_layers += 1\n",
    "    z_layers.append(round(h, 2))\n",
    "\n",
    "print(z_layers)\n",
    "print(len(z_layers))\n",
    "\n",
    "alpha_layers = [alpha * (i / (n_layers - 1)) for i in range(n_layers)]\n",
    "print(alpha_layers)\n",
    "print(len(alpha_layers))\n",
    "\n"
   ]
  },
  {
   "cell_type": "code",
   "execution_count": 260,
   "metadata": {},
   "outputs": [],
   "source": [
    "n_vertices = 10\n",
    "theta_0 = [i * (360 / n_vertices) for i in range(n_vertices)]\n"
   ]
  },
  {
   "cell_type": "code",
   "execution_count": 257,
   "metadata": {},
   "outputs": [],
   "source": [
    "text.close()"
   ]
  }
 ],
 "metadata": {
  "kernelspec": {
   "display_name": "base",
   "language": "python",
   "name": "python3"
  },
  "language_info": {
   "codemirror_mode": {
    "name": "ipython",
    "version": 3
   },
   "file_extension": ".py",
   "mimetype": "text/x-python",
   "name": "python",
   "nbconvert_exporter": "python",
   "pygments_lexer": "ipython3",
   "version": "3.9.12"
  },
  "orig_nbformat": 4,
  "vscode": {
   "interpreter": {
    "hash": "b1a416ec564d06991520eb1bcbffa34e30eee52d6e30535b3b89ef9313e4fb87"
   }
  }
 },
 "nbformat": 4,
 "nbformat_minor": 2
}
