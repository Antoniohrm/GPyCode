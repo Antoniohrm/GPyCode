{
 "cells": [
  {
   "cell_type": "code",
   "execution_count": 132,
   "metadata": {},
   "outputs": [],
   "source": [
    "import numpy as np"
   ]
  },
  {
   "cell_type": "code",
   "execution_count": 133,
   "metadata": {},
   "outputs": [],
   "source": [
    "n_vertices = 3\n",
    "h = 20              # mm\n",
    "l_edge = 10         # mm\n",
    "theta = 10          # degrees"
   ]
  },
  {
   "cell_type": "code",
   "execution_count": 134,
   "metadata": {},
   "outputs": [],
   "source": [
    "t_bed = 60          # degrees C\n",
    "t_ext = 210         # degrees C\n",
    "\n",
    "h_layer = 0.2       # mm\n",
    "feed = 40           # mm/s\n",
    "\n",
    "max_a = [500.00, 500.00, 100.00, 5000.00]\n",
    "max_feed = [500.00, 500.00, 10.00, 50.00]\n",
    "accs = [500.00, 1000.00, 500.00]\n",
    "jerk = [8.00, 8.00, 0.40, 5.00]\n",
    "\n",
    "v_fan = 100         # %"
   ]
  },
  {
   "cell_type": "code",
   "execution_count": 135,
   "metadata": {},
   "outputs": [
    {
     "data": {
      "text/plain": [
       "62"
      ]
     },
     "execution_count": 135,
     "metadata": {},
     "output_type": "execute_result"
    }
   ],
   "source": [
    "text = open('Ex_Files/Ex1.gcode', 'w')\n",
    "text.write(\";This Gcode was generated with GPyCode\\n\")\n",
    "text.write(\";The shape has {} vertices\\n\".format(int(n_vertices)))\n",
    "text.write(\";The print has a layer height of {} and the feed speed is {}\\n\".format(h_layer, feed))\n"
   ]
  },
  {
   "cell_type": "code",
   "execution_count": 136,
   "metadata": {},
   "outputs": [
    {
     "data": {
      "text/plain": [
       "10"
      ]
     },
     "execution_count": 136,
     "metadata": {},
     "output_type": "execute_result"
    }
   ],
   "source": [
    "text.write('M140 S{}\\n'.format(t_bed))\n",
    "text.write('M104 S{}\\n'.format(t_ext))\n",
    "text.write('M105\\n')\n",
    "text.write('M190 S{}\\n'.format(t_bed))\n",
    "text.write('M109 S{}\\n'.format(t_ext))"
   ]
  },
  {
   "cell_type": "code",
   "execution_count": 137,
   "metadata": {},
   "outputs": [
    {
     "data": {
      "text/plain": [
       "25"
      ]
     },
     "execution_count": 137,
     "metadata": {},
     "output_type": "execute_result"
    }
   ],
   "source": [
    "text.write('M82\\n')\n",
    "text.write('M201 X{} Y{} Z{} E{}\\n'.format(*max_a))\n",
    "text.write('M203 X{} Y{} Z{} E{}\\n'.format(*max_feed))\n",
    "text.write('M204 P{} R{} T{}\\n'.format(*accs))\n",
    "text.write('M205 X{} Y{} Z{} E{}\\n'.format(*jerk))\n",
    "\n",
    "text.write('M220 S100\\n')\n",
    "text.write('M221 S100\\n')\n",
    "\n"
   ]
  },
  {
   "cell_type": "code",
   "execution_count": 138,
   "metadata": {},
   "outputs": [],
   "source": [
    "text.close()"
   ]
  }
 ],
 "metadata": {
  "kernelspec": {
   "display_name": "base",
   "language": "python",
   "name": "python3"
  },
  "language_info": {
   "codemirror_mode": {
    "name": "ipython",
    "version": 3
   },
   "file_extension": ".py",
   "mimetype": "text/x-python",
   "name": "python",
   "nbconvert_exporter": "python",
   "pygments_lexer": "ipython3",
   "version": "3.9.12"
  },
  "orig_nbformat": 4,
  "vscode": {
   "interpreter": {
    "hash": "b1a416ec564d06991520eb1bcbffa34e30eee52d6e30535b3b89ef9313e4fb87"
   }
  }
 },
 "nbformat": 4,
 "nbformat_minor": 2
}
