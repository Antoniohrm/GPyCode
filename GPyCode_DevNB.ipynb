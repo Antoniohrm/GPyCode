{
 "cells": [
  {
   "cell_type": "code",
   "execution_count": 2,
   "metadata": {},
   "outputs": [],
   "source": [
    "import numpy as np"
   ]
  },
  {
   "cell_type": "code",
   "execution_count": 4,
   "metadata": {},
   "outputs": [],
   "source": [
    "n_vertices = 3\n",
    "h = 20              # mm\n",
    "l_edge = 10         # mm\n",
    "theta = 90          # degrees"
   ]
  },
  {
   "cell_type": "code",
   "execution_count": 5,
   "metadata": {},
   "outputs": [],
   "source": [
    "t_bed = 60          # degrees C\n",
    "t_ext = 210         # degrees C\n",
    "\n",
    "h_layer = 0.2       # mm\n",
    "feed = 40           # mm/s\n",
    "\n",
    "v_fan = 100         # %"
   ]
  },
  {
   "cell_type": "code",
   "execution_count": 15,
   "metadata": {},
   "outputs": [],
   "source": [
    "text = "
   ]
  },
  {
   "cell_type": "code",
   "execution_count": 16,
   "metadata": {},
   "outputs": [
    {
     "name": "stdout",
     "output_type": "stream",
     "text": [
      "[[0], ['A']]\n"
     ]
    }
   ],
   "source": [
    "text[1][0] = 'A'\n",
    "print(text)"
   ]
  },
  {
   "cell_type": "code",
   "execution_count": null,
   "metadata": {},
   "outputs": [],
   "source": []
  }
 ],
 "metadata": {
  "kernelspec": {
   "display_name": "base",
   "language": "python",
   "name": "python3"
  },
  "language_info": {
   "codemirror_mode": {
    "name": "ipython",
    "version": 3
   },
   "file_extension": ".py",
   "mimetype": "text/x-python",
   "name": "python",
   "nbconvert_exporter": "python",
   "pygments_lexer": "ipython3",
   "version": "3.9.12"
  },
  "orig_nbformat": 4,
  "vscode": {
   "interpreter": {
    "hash": "b1a416ec564d06991520eb1bcbffa34e30eee52d6e30535b3b89ef9313e4fb87"
   }
  }
 },
 "nbformat": 4,
 "nbformat_minor": 2
}
